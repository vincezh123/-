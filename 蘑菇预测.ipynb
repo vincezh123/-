{
 "cells": [
  {
   "cell_type": "code",
   "id": "initial_id",
   "metadata": {
    "collapsed": true,
    "ExecuteTime": {
     "end_time": "2025-04-06T16:46:32.544388Z",
     "start_time": "2025-04-06T16:46:32.080198Z"
    }
   },
   "source": [
    "import streamlit as st\n",
    "import pandas as pd\n",
    "import numpy as np\n",
    "\n"
   ],
   "outputs": [],
   "execution_count": 1
  },
  {
   "metadata": {
    "ExecuteTime": {
     "end_time": "2025-04-06T17:08:33.475953Z",
     "start_time": "2025-04-06T17:08:33.332067Z"
    }
   },
   "cell_type": "code",
   "source": [
    "from sklearn.svm import SVC   ##Support Vector Modifier是一种支持向量机的分类器模型。它有许多可调节的参数，\n",
    "from sklearn.linear_model import LogisticRegression ##罗辑回归\n",
    "from sklearn.ensemble import RandomForestClassifier ##随机森林\n",
    "from sklearn.preprocessing import LabelEncoder ##对数据进行编码标签eg.小狗为01小猫02 so on\n",
    "from sklearn.model_selection import train_test_split\n",
    "from sklearn.metrics import ConfusionMatrixDisplay,RocCurveDisplay,PrecisionRecallDisplay\n",
    "from sklearn.metrics import precision_score, recall_score\n"
   ],
   "id": "55f7bf9ac85b0a63",
   "outputs": [],
   "execution_count": 3
  },
  {
   "metadata": {
    "ExecuteTime": {
     "end_time": "2025-04-07T02:18:24.629042Z",
     "start_time": "2025-04-07T02:18:24.611609Z"
    }
   },
   "cell_type": "code",
   "source": [
    "def main():\n",
    "    st.title(\"binary classification web\") ##"
   ],
   "id": "cfeb120d76c31748",
   "outputs": [],
   "execution_count": 4
  }
 ],
 "metadata": {
  "kernelspec": {
   "display_name": "Python 3",
   "language": "python",
   "name": "python3"
  },
  "language_info": {
   "codemirror_mode": {
    "name": "ipython",
    "version": 2
   },
   "file_extension": ".py",
   "mimetype": "text/x-python",
   "name": "python",
   "nbconvert_exporter": "python",
   "pygments_lexer": "ipython2",
   "version": "2.7.6"
  }
 },
 "nbformat": 4,
 "nbformat_minor": 5
}
